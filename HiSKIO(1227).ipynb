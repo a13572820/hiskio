{
 "cells": [
  {
   "cell_type": "code",
   "execution_count": 1,
   "metadata": {},
   "outputs": [
    {
     "name": "stdout",
     "output_type": "stream",
     "text": [
      "Collecting selenium\n",
      "  Downloading https://files.pythonhosted.org/packages/80/d6/4294f0b4bce4de0abf13e17190289f9d0613b0a44e5dd6a7f5ca98459853/selenium-3.141.0-py2.py3-none-any.whl (904kB)\n",
      "Requirement already satisfied: urllib3 in c:\\users\\pei\\anaconda3\\lib\\site-packages (from selenium) (1.24.1)\n",
      "Installing collected packages: selenium\n",
      "Successfully installed selenium-3.141.0\n"
     ]
    }
   ],
   "source": [
    "#! pip install selenium"
   ]
  },
  {
   "cell_type": "code",
   "execution_count": 2,
   "metadata": {},
   "outputs": [
    {
     "name": "stdout",
     "output_type": "stream",
     "text": [
      "Requirement already satisfied: beautifulsoup4 in c:\\users\\pei\\anaconda3\\lib\\site-packages (4.6.3)\n"
     ]
    }
   ],
   "source": [
    "#!  pip install beautifulsoup4"
   ]
  },
  {
   "cell_type": "code",
   "execution_count": 14,
   "metadata": {
    "scrolled": true
   },
   "outputs": [
    {
     "name": "stderr",
     "output_type": "stream",
     "text": [
      "/Users/xiewanzhen/anaconda3/lib/python3.7/site-packages/ipykernel_launcher.py:21: DeprecationWarning: use options instead of chrome_options\n"
     ]
    },
    {
     "name": "stdout",
     "output_type": "stream",
     "text": [
      "5013\n",
      "[其他] 2019臺灣期貨信託ETF全年費用率\n",
      "4\n",
      "Littlechozy\n",
      " 1/18\n",
      "Re: [其他] 如果有一百萬你會如何投資\n",
      "0\n",
      "OfficeGL\n",
      " 1/18\n",
      "[請益] 此情況的投報率計算方式\n",
      "20\n",
      "w9o1y\n",
      " 1/18\n",
      "Fw: [新聞] 為了一部半導體設備 中美駐荷蘭大使館公\n",
      "27\n",
      "GETpoint\n",
      " 1/18\n",
      "[新聞] 衝破400元！台積目標價 花旗喊402元\n",
      "99\n",
      "kof70380\n",
      " 1/18\n",
      "Re: [新聞] 衝破400元！台積目標價 花旗喊402元\n",
      "40\n",
      "z520314\n",
      " 1/18\n",
      "[請益] 看台灣品牌這種CES表現, 後續投資度怎看?\n",
      "7\n",
      "cigaishen\n",
      " 1/18\n",
      "Re: [新聞] 衝破400元！台積目標價 花旗喊402元\n",
      "17\n",
      "Tosca\n",
      " 1/18\n",
      "Re: [請益] 此情況的投報率計算方式\n",
      "0\n",
      "j2708180\n",
      " 1/18\n"
     ]
    }
   ],
   "source": [
    "from selenium import webdriver\n",
    "from selenium.webdriver.chrome.options import Options\n",
    "from bs4 import BeautifulSoup\n",
    "\n",
    "import time \n",
    "import os \n",
    "import csv\n",
    "\n",
    "from datetime import date\n",
    "today = date.today()\n",
    "search_date = today.strftime('%-m/%d')\n",
    "file_date = today.strftime('%-m-%d')\n",
    "#時間轉換格式\n",
    "\n",
    "options = Options()\n",
    "\n",
    "#options.add_argument('--headless')\n",
    "#options.add_argument('--disable-gpu')\n",
    "\n",
    "\n",
    "driver = webdriver.Chrome(os.getcwd() +'/chromedriver', chrome_options= options)\n",
    "\n",
    "try: \n",
    "    with open(file_date+'data.csv' , 'w' , newline='', encoding='utf_8_sig') as csvfile :\n",
    "        driver.get('https://www.ptt.cc/bbs/Stock/index.html')\n",
    "        sourceCode = BeautifulSoup(driver.page_source)\n",
    "        button = sourceCode.select('a.btn.wide')[1]\n",
    "        x = button['href'].find('x')\n",
    "        dot = button['href'].find('.')\n",
    "        index = button['href'][x+1:dot]\n",
    "        \n",
    "        for i in range(int(index)+1, 5012, -1):\n",
    "            print(i)\n",
    "            driver.get('https://www.ptt.cc/bbs/Stock/index'+str(i)+'.html')\n",
    "            sourceCode = BeautifulSoup(driver.page_source)\n",
    "            metaSection = sourceCode.select('div.r-list-container')[0]\n",
    "            sections = metaSection.select('div.r-ent')\n",
    "            for section in sections:\n",
    "                title = section.select('div.title')[0].text\n",
    "                num = section.select('div.nrec')[0].text\n",
    "                author = section.select('div.author')[0].text\n",
    "                date = section.select('div.date')[0].text\n",
    "                \n",
    "                title = title.strip()\n",
    "                if(title.startswith('[公告]')):\n",
    "                    continue\n",
    "                    \n",
    "                if(num.find('爆') != -1):\n",
    "                    num = '100'\n",
    "                if(num.find('x') != -1 or num ==''):\n",
    "                    num = '0'\n",
    "                    \n",
    "                if(date.strip() == search_date):\n",
    "                    print(title)\n",
    "                    print(num)\n",
    "                    print(author)\n",
    "                    print(date)\n",
    "                    writer = csv.writer(csvfile)\n",
    "                    writer.writerow([num, title, author, date])\n",
    "                \n",
    "    driver.close()\n",
    "except Exception as e:\n",
    "    print(e)\n",
    "    driver.close()"
   ]
  },
  {
   "cell_type": "code",
   "execution_count": 15,
   "metadata": {},
   "outputs": [
    {
     "data": {
      "text/plain": [
       "'/Users/xiewanzhen/Documents/python'"
      ]
     },
     "execution_count": 15,
     "metadata": {},
     "output_type": "execute_result"
    }
   ],
   "source": [
    "import os\n",
    "os.getcwd()"
   ]
  },
  {
   "cell_type": "code",
   "execution_count": null,
   "metadata": {},
   "outputs": [],
   "source": []
  }
 ],
 "metadata": {
  "kernelspec": {
   "display_name": "Python 3",
   "language": "python",
   "name": "python3"
  },
  "language_info": {
   "codemirror_mode": {
    "name": "ipython",
    "version": 3
   },
   "file_extension": ".py",
   "mimetype": "text/x-python",
   "name": "python",
   "nbconvert_exporter": "python",
   "pygments_lexer": "ipython3",
   "version": "3.7.1"
  }
 },
 "nbformat": 4,
 "nbformat_minor": 2
}
