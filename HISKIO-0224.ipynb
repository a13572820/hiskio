{
 "cells": [
  {
   "cell_type": "code",
   "execution_count": 1,
   "metadata": {},
   "outputs": [],
   "source": [
    "#FB爬取"
   ]
  },
  {
   "cell_type": "code",
   "execution_count": 7,
   "metadata": {},
   "outputs": [
    {
     "name": "stderr",
     "output_type": "stream",
     "text": [
      "/Users/xiewanzhen/anaconda3/lib/python3.7/site-packages/ipykernel_launcher.py:21: DeprecationWarning: use options instead of chrome_options\n"
     ]
    }
   ],
   "source": [
    "from selenium import webdriver\n",
    "from selenium.webdriver.chrome.options import Options\n",
    "from bs4 import BeautifulSoup\n",
    "import pymysql.cursors\n",
    "import time \n",
    "import os\n",
    "\n",
    "\n",
    "connection = pymysql.connect(host='localhost',\n",
    "                             user='root',\n",
    "                             password='asd273321',\n",
    "                             db='new_media',\n",
    "                             charset='utf8mb4',\n",
    "                             cursorclass=pymysql.cursors.DictCursor)\n",
    "\n",
    "\n",
    "options = Options()\n",
    "options.experimental_options[\"prefs\"] = {'profile.default_content_settings' : {\"images\":2},   \n",
    "                                         'profile.managed_default_content_settings' : {\"images\":2}}\n",
    "\n",
    "driver = webdriver.Chrome(os.getcwd()+'/chromedriver80', chrome_options=options)\n",
    "try:\n",
    "    with connection.cursor() as cursor:\n",
    "        driver.get('https://www.facebook.com')\n",
    "        username = driver.find_elements_by_css_selector(\"input[name=email]\")[0]\n",
    "        password = driver.find_elements_by_css_selector(\"input[name=pass]\")[0]\n",
    "        username.send_keys('simple273321@yahoo.com.tw')\n",
    "        password.send_keys('qaz840321')\n",
    "        login_button = driver.find_elements_by_css_selector(\"input[type=submit]\")[0]\n",
    "        login_button.click()\n",
    "    connection.close()\n",
    "   # driver.close()\n",
    "except Exception as e:\n",
    "    print(e)\n",
    "    connection.close()\n",
    "    driver.close()\n",
    "\n"
   ]
  },
  {
   "cell_type": "code",
   "execution_count": null,
   "metadata": {},
   "outputs": [],
   "source": []
  }
 ],
 "metadata": {
  "kernelspec": {
   "display_name": "Python 3",
   "language": "python",
   "name": "python3"
  },
  "language_info": {
   "codemirror_mode": {
    "name": "ipython",
    "version": 3
   },
   "file_extension": ".py",
   "mimetype": "text/x-python",
   "name": "python",
   "nbconvert_exporter": "python",
   "pygments_lexer": "ipython3",
   "version": "3.7.1"
  }
 },
 "nbformat": 4,
 "nbformat_minor": 2
}
