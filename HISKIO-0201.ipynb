{
 "cells": [
  {
   "cell_type": "code",
   "execution_count": 18,
   "metadata": {},
   "outputs": [
    {
     "name": "stdout",
     "output_type": "stream",
     "text": [
      "Requirement already satisfied: pymysql in /Library/Frameworks/Python.framework/Versions/3.7/lib/python3.7/site-packages (0.9.3)\n",
      "\u001b[33mYou are using pip version 10.0.1, however version 20.0.2 is available.\n",
      "You should consider upgrading via the 'pip install --upgrade pip' command.\u001b[0m\n"
     ]
    }
   ],
   "source": [
    "!pip3 install pymysql"
   ]
  },
  {
   "cell_type": "code",
   "execution_count": 16,
   "metadata": {},
   "outputs": [
    {
     "ename": "AttributeError",
     "evalue": "module 'pymysql.cursors' has no attribute 'Dictcursor'",
     "output_type": "error",
     "traceback": [
      "\u001b[0;31m---------------------------------------------------------------------------\u001b[0m",
      "\u001b[0;31mAttributeError\u001b[0m                            Traceback (most recent call last)",
      "\u001b[0;32m<ipython-input-16-e7bc27d147a9>\u001b[0m in \u001b[0;36m<module>\u001b[0;34m\u001b[0m\n\u001b[1;32m     11\u001b[0m                              \u001b[0mpassword\u001b[0m\u001b[0;34m=\u001b[0m\u001b[0;34m'asd273321'\u001b[0m\u001b[0;34m,\u001b[0m\u001b[0;34m\u001b[0m\u001b[0;34m\u001b[0m\u001b[0m\n\u001b[1;32m     12\u001b[0m                              \u001b[0mdb\u001b[0m\u001b[0;34m=\u001b[0m\u001b[0;34m'new_Schema'\u001b[0m\u001b[0;34m,\u001b[0m\u001b[0;34m\u001b[0m\u001b[0;34m\u001b[0m\u001b[0m\n\u001b[0;32m---> 13\u001b[0;31m                              cursorsclass=pymysql.cursors.Dictcursor)\n\u001b[0m\u001b[1;32m     14\u001b[0m \u001b[0;34m\u001b[0m\u001b[0m\n\u001b[1;32m     15\u001b[0m \u001b[0;34m\u001b[0m\u001b[0m\n",
      "\u001b[0;31mAttributeError\u001b[0m: module 'pymysql.cursors' has no attribute 'Dictcursor'"
     ]
    }
   ],
   "source": [
    "from selenium import webdriver\n",
    "from selenium.webdriver.chrome.options import Options\n",
    "from bs4 import BeautifulSoup\n",
    "import pymysql.cursors\n",
    "import time \n",
    "import os \n",
    "\n",
    "\n",
    "connection = pymysql.connect(host='localhost',\n",
    "                             user='root',\n",
    "                             password='asd273321',\n",
    "                             db='new_Schema',\n",
    "                             cursorsclass=pymysql.cursors.Dictcursor)\n",
    "\n",
    "\n",
    "options = Options()\n",
    "\n",
    "#options.add_argument('--headless')\n",
    "#options.add_argument('--disable-gpu')\n",
    "\n",
    "\n",
    "driver = webdriver.Chrome(os.getcwd()+'/chromedriver', chrome_options=options)\n",
    "try:\n",
    "    with connection.cursor() as cursor:\n",
    "        driver.get('https://www.inside.com.tw/')\n",
    "        sourceCode = BeautifulSoup(driver.page_source)\n",
    "        article_box = sourceCode.select('div.post_list post_list-grid_style')[0]\n",
    "        article = article_box.select('div.post_list_item')\n",
    "        for article in articles:\n",
    "            print(article)\n",
    "            \n",
    "    connection.close()\n",
    "    driver.close()\n",
    "except Exception as e:\n",
    "    print(e)\n",
    "    connection.close()\n",
    "    driver.close()\n",
    "    \n",
    "    "
   ]
  },
  {
   "cell_type": "code",
   "execution_count": null,
   "metadata": {},
   "outputs": [],
   "source": []
  }
 ],
 "metadata": {
  "kernelspec": {
   "display_name": "Python 3",
   "language": "python",
   "name": "python3"
  },
  "language_info": {
   "codemirror_mode": {
    "name": "ipython",
    "version": 3
   },
   "file_extension": ".py",
   "mimetype": "text/x-python",
   "name": "python",
   "nbconvert_exporter": "python",
   "pygments_lexer": "ipython3",
   "version": "3.7.1"
  }
 },
 "nbformat": 4,
 "nbformat_minor": 2
}
